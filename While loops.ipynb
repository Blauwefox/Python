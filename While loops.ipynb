{
 "cells": [
  {
   "cell_type": "markdown",
   "metadata": {
    "collapsed": true
   },
   "source": [
    "# while loops\n",
    "\n",
    "The **while** statement in Python is one of most general ways to perform iteration. A **while** statement will repeatedly execute a single statement or group of statements as long as the condition is true. The reason it is called a 'loop' is because the code statements are looped through over and over again until the condition is no longer met.\n",
    "\n",
    "The general format of a while loop is:\n",
    "\n",
    "    while test:\n",
    "        code statement\n",
    "    else:\n",
    "        final code statements\n",
    "\n",
    "Let’s look at a few simple while loops in action. "
   ]
  },
  {
   "cell_type": "code",
   "execution_count": 26,
   "metadata": {
    "collapsed": false
   },
   "outputs": [
    {
     "name": "stdout",
     "output_type": "stream",
     "text": [
      "for t: 0 seconds\n",
      "final veocity is: 22.7 meters/second\n",
      "range is : 0.0 meters \n",
      "\n",
      "for t: 0.25 seconds\n",
      "final veocity is: 25.15 meters/second\n",
      "range is : 5.98125 meters \n",
      "\n",
      "for t: 0.5 seconds\n",
      "final veocity is: 27.6 meters/second\n",
      "range is : 12.575 meters \n",
      "\n",
      "for t: 0.75 seconds\n",
      "final veocity is: 30.05 meters/second\n",
      "range is : 19.78125 meters \n",
      "\n",
      "for t: 1.0 seconds\n",
      "final veocity is: 32.5 meters/second\n",
      "range is : 27.6 meters \n",
      "\n",
      "for t: 1.25 seconds\n",
      "final veocity is: 34.95 meters/second\n",
      "range is : 36.03125 meters \n",
      "\n",
      "for t: 1.5 seconds\n",
      "final veocity is: 37.4 meters/second\n",
      "range is : 45.075 meters \n",
      "\n",
      "for t: 1.75 seconds\n",
      "final veocity is: 39.85 meters/second\n",
      "range is : 54.73125 meters \n",
      "\n",
      "for t: 2.0 seconds\n",
      "final veocity is: 42.3 meters/second\n",
      "range is : 65.0 meters \n",
      "\n",
      "for t: 2.25 seconds\n",
      "final veocity is: 44.75 meters/second\n",
      "range is : 75.88125 meters \n",
      "\n",
      "for t: 2.5 seconds\n",
      "final veocity is: 47.2 meters/second\n",
      "range is : 87.375 meters \n",
      "\n",
      "for t: 2.75 seconds\n",
      "final veocity is: 49.65 meters/second\n",
      "range is : 99.48125 meters \n",
      "\n",
      "for t: 3.0 seconds\n",
      "final veocity is: 52.1 meters/second\n",
      "range is : 112.2 meters \n",
      "\n",
      "for t: 3.25 seconds\n",
      "final veocity is: 54.55 meters/second\n",
      "range is : 125.53125 meters \n",
      "\n",
      "for t: 3.5 seconds\n",
      "final veocity is: 57.0 meters/second\n",
      "range is : 139.475 meters \n",
      "\n",
      "for t: 3.75 seconds\n",
      "final veocity is: 59.45 meters/second\n",
      "range is : 154.03125 meters \n",
      "\n",
      "for t: 4.0 seconds\n",
      "final veocity is: 61.9 meters/second\n",
      "range is : 169.2 meters \n",
      "\n",
      "for t: 4.25 seconds\n",
      "final veocity is: 64.35 meters/second\n",
      "range is : 184.98125 meters \n",
      "\n",
      "for t: 4.5 seconds\n",
      "final veocity is: 66.8 meters/second\n",
      "range is : 201.375 meters \n",
      "\n",
      "for t: 4.75 seconds\n",
      "final veocity is: 69.25 meters/second\n",
      "range is : 218.38125 meters \n",
      "\n",
      "for t: 5.0 seconds\n",
      "final veocity is: 71.7 meters/second\n",
      "range is : 236.0 meters \n",
      "\n",
      "for t: 5.25 seconds\n",
      "final veocity is: 74.15 meters/second\n",
      "range is : 254.23125 meters \n",
      "\n",
      "for t: 5.5 seconds\n",
      "final veocity is: 76.6 meters/second\n",
      "range is : 273.075 meters \n",
      "\n",
      "for t: 5.75 seconds\n",
      "final veocity is: 79.05 meters/second\n",
      "range is : 292.53125 meters \n",
      "\n",
      "for t: 6.0 seconds\n",
      "final veocity is: 81.5 meters/second\n",
      "range is : 312.6 meters \n",
      "\n",
      "for t: 6.25 seconds\n",
      "final veocity is: 83.95 meters/second\n",
      "range is : 333.28125 meters \n",
      "\n",
      "for t: 6.5 seconds\n",
      "final veocity is: 86.4 meters/second\n",
      "range is : 354.575 meters \n",
      "\n",
      "for t: 6.75 seconds\n",
      "final veocity is: 88.85 meters/second\n",
      "range is : 376.48125 meters \n",
      "\n",
      "for t: 7.0 seconds\n",
      "final veocity is: 91.3 meters/second\n",
      "range is : 399.0 meters \n",
      "\n",
      "for t: 7.25 seconds\n",
      "final veocity is: 93.75 meters/second\n",
      "range is : 422.13125 meters \n",
      "\n",
      "for t: 7.5 seconds\n",
      "final veocity is: 96.2 meters/second\n",
      "range is : 445.875 meters \n",
      "\n",
      "for t: 7.75 seconds\n",
      "final veocity is: 98.65 meters/second\n",
      "range is : 470.23125 meters \n",
      "\n",
      "for t: 8.0 seconds\n",
      "final veocity is: 101.1 meters/second\n",
      "range is : 495.2 meters \n",
      "\n",
      "for t: 8.25 seconds\n",
      "final veocity is: 103.55 meters/second\n",
      "range is : 520.78125 meters \n",
      "\n",
      "for t: 8.5 seconds\n",
      "final veocity is: 106.0 meters/second\n",
      "range is : 546.975 meters \n",
      "\n",
      "for t: 8.75 seconds\n",
      "final veocity is: 108.45 meters/second\n",
      "range is : 573.78125 meters \n",
      "\n",
      "for t: 9.0 seconds\n",
      "final veocity is: 110.9 meters/second\n",
      "range is : 601.2 meters \n",
      "\n",
      "for t: 9.25 seconds\n",
      "final veocity is: 113.35 meters/second\n",
      "range is : 629.23125 meters \n",
      "\n",
      "for t: 9.5 seconds\n",
      "final veocity is: 115.8 meters/second\n",
      "range is : 657.875 meters \n",
      "\n",
      "for t: 9.75 seconds\n",
      "final veocity is: 118.25 meters/second\n",
      "range is : 687.13125 meters \n",
      "\n",
      "iteration has ended for t<10 m/s\n"
     ]
    }
   ],
   "source": [
    "t = 0\n",
    "a = 9.8\n",
    "u = 22.7\n",
    "while t < 10:\n",
    "    print 'for t:',t,'seconds'\n",
    "    v = u + a*t\n",
    "    s = (u*t) + (a*t**2)/2\n",
    "    print 'final veocity is:', v, 'meters/second'\n",
    "    print 'range is :',s, 'meters \\n'\n",
    "    t = t + 0.25\n",
    "else:\n",
    "    print'iteration has ended for t<10 m/s'"
   ]
  },
  {
   "cell_type": "markdown",
   "metadata": {},
   "source": [
    "Notice how many times the print statements occurred and how the while loop kept going until the True condition was met, which occurred once x==10. Its important to note that once this occurred the code stopped. Lets see how we could add an else statement:"
   ]
  },
  {
   "cell_type": "code",
   "execution_count": 3,
   "metadata": {
    "collapsed": false
   },
   "outputs": [
    {
     "name": "stdout",
     "output_type": "stream",
     "text": [
      "x is currently:  0\n",
      " x is still less than 10, adding 1 to x\n",
      "x is currently:  1\n",
      " x is still less than 10, adding 1 to x\n",
      "x is currently:  2\n",
      " x is still less than 10, adding 1 to x\n",
      "x is currently:  3\n",
      " x is still less than 10, adding 1 to x\n",
      "x is currently:  4\n",
      " x is still less than 10, adding 1 to x\n",
      "x is currently:  5\n",
      " x is still less than 10, adding 1 to x\n",
      "x is currently:  6\n",
      " x is still less than 10, adding 1 to x\n",
      "x is currently:  7\n",
      " x is still less than 10, adding 1 to x\n",
      "x is currently:  8\n",
      " x is still less than 10, adding 1 to x\n",
      "x is currently:  9\n",
      " x is still less than 10, adding 1 to x\n",
      "All Done!\n"
     ]
    }
   ],
   "source": [
    "x = 0\n",
    "\n",
    "while x < 10:\n",
    "    print 'x is currently: ',x\n",
    "    print ' x is still less than 10, adding 1 to x'\n",
    "    x+=1\n",
    "    \n",
    "else:\n",
    "    print 'All Done!'"
   ]
  },
  {
   "cell_type": "markdown",
   "metadata": {},
   "source": [
    "#break, continue, pass\n",
    "\n",
    "We can use break, continue, and pass statements in our loops to add additional functionality for various cases. The three statements are defined by:\n",
    "\n",
    "    break: Breaks out of the current closest enclosing loop.\n",
    "    continue: Goes to the top of the closest enclosing loop.\n",
    "    pass: Does nothing at all.\n",
    "    \n",
    "    \n",
    "Thinking about **break** and **continue** statements, the general format of the while loop looks like this:\n",
    "\n",
    "    while test: \n",
    "        code statement\n",
    "        if test: \n",
    "            break\n",
    "        if test: \n",
    "            continue \n",
    "    else:\n",
    "\n",
    "**break** and **continue** statements can appear anywhere inside the loop’s body,but we will usually put them further nested in conjunction with an **if** statement to perform an action based on some condition.\n",
    "\n",
    "Lets go ahead and look at some examples!"
   ]
  },
  {
   "cell_type": "code",
   "execution_count": 29,
   "metadata": {
    "collapsed": false
   },
   "outputs": [
    {
     "name": "stdout",
     "output_type": "stream",
     "text": [
      "x is currently:  0\n",
      " x is still less than 10, adding 1 to x\n",
      "continuing... \n",
      "\n",
      "x is currently:  1\n",
      " x is still less than 10, adding 1 to x\n",
      "continuing... \n",
      "\n",
      "x is currently:  2\n",
      " x is still less than 10, adding 1 to x\n",
      "x==3 \n",
      "\n",
      "x is currently:  3\n",
      " x is still less than 10, adding 1 to x\n",
      "continuing... \n",
      "\n",
      "x is currently:  4\n",
      " x is still less than 10, adding 1 to x\n",
      "continuing... \n",
      "\n",
      "x is currently:  5\n",
      " x is still less than 10, adding 1 to x\n",
      "continuing... \n",
      "\n",
      "x is currently:  6\n",
      " x is still less than 10, adding 1 to x\n",
      "continuing... \n",
      "\n",
      "x is currently:  7\n",
      " x is still less than 10, adding 1 to x\n",
      "continuing... \n",
      "\n",
      "x is currently:  8\n",
      " x is still less than 10, adding 1 to x\n",
      "continuing... \n",
      "\n",
      "x is currently:  9\n",
      " x is still less than 10, adding 1 to x\n",
      "continuing... \n",
      "\n",
      "iteration has ended\n"
     ]
    }
   ],
   "source": [
    "x = 0\n",
    "\n",
    "while x < 10:\n",
    "    print 'x is currently: ',x\n",
    "    print ' x is still less than 10, adding 1 to x'\n",
    "    x+=1\n",
    "    if x ==3:\n",
    "        print 'x==3 \\n'\n",
    "    else:\n",
    "        print 'continuing... \\n'\n",
    "        continue\n",
    "print'iteration has ended'"
   ]
  },
  {
   "cell_type": "markdown",
   "metadata": {},
   "source": [
    "Note how we have a printed statement when x==3, and a continue being printed out as we continue through the outer while loop. Let's put in a break once x ==3 and see if the result makes sense:"
   ]
  },
  {
   "cell_type": "code",
   "execution_count": 7,
   "metadata": {
    "collapsed": false
   },
   "outputs": [
    {
     "name": "stdout",
     "output_type": "stream",
     "text": [
      "x is currently:  0\n",
      " x is still less than 10, adding 1 to x\n",
      "continuing...\n",
      "x is currently:  1\n",
      " x is still less than 10, adding 1 to x\n",
      "continuing...\n",
      "x is currently:  2\n",
      " x is still less than 10, adding 1 to x\n",
      "Breaking because x==3\n"
     ]
    }
   ],
   "source": [
    "x = 0\n",
    "\n",
    "while x < 10:\n",
    "    print 'x is currently: ',x\n",
    "    print ' x is still less than 10, adding 1 to x'\n",
    "    x+=1\n",
    "    if x ==3:\n",
    "        print 'Breaking because x==3'\n",
    "        break\n",
    "    else:\n",
    "        print 'continuing...'\n",
    "        continue"
   ]
  },
  {
   "cell_type": "markdown",
   "metadata": {},
   "source": [
    "Note how the other else statement wasn't reached and continuing was never printed!\n",
    "\n",
    "After these brief but simple examples, you should feel comfortable using while statements in you code.\n",
    "\n",
    "**A word of caution however! It is possible to create an infinitely running loop with while statements. For example:**"
   ]
  },
  {
   "cell_type": "code",
   "execution_count": null,
   "metadata": {
    "collapsed": false
   },
   "outputs": [],
   "source": [
    "# DO NOT RUN THIS CODE!!!! \n",
    "while True:\n",
    "    print 'Uh Oh infinite Loop!'"
   ]
  },
  {
   "cell_type": "code",
   "execution_count": null,
   "metadata": {
    "collapsed": true
   },
   "outputs": [],
   "source": []
  }
 ],
 "metadata": {
  "kernelspec": {
   "display_name": "Python 2",
   "language": "python",
   "name": "python2"
  },
  "language_info": {
   "codemirror_mode": {
    "name": "ipython",
    "version": 2
   },
   "file_extension": ".py",
   "mimetype": "text/x-python",
   "name": "python",
   "nbconvert_exporter": "python",
   "pygments_lexer": "ipython2",
   "version": "2.7.13"
  }
 },
 "nbformat": 4,
 "nbformat_minor": 0
}
