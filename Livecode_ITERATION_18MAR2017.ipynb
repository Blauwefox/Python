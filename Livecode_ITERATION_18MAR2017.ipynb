{
 "cells": [
  {
   "cell_type": "code",
   "execution_count": 9,
   "metadata": {
    "collapsed": false
   },
   "outputs": [
    {
     "name": "stdout",
     "output_type": "stream",
     "text": [
      "{'k3': 3, 'k2': 2, 'k1': 1}\n",
      "k3\n",
      "k2\n",
      "k1\n",
      "k3\n",
      "3\n",
      "k2\n",
      "2\n",
      "k1\n",
      "1\n"
     ]
    }
   ],
   "source": [
    "d = {'k1':1,'k2':2,'k3':3}\n",
    "print d\n",
    "for item in d: \n",
    "    print item\n",
    "    \n",
    "for k,v in d.iteritems():\n",
    "    print k \n",
    "    print v\n"
   ]
  },
  {
   "cell_type": "code",
   "execution_count": 10,
   "metadata": {
    "collapsed": false
   },
   "outputs": [
    {
     "name": "stdout",
     "output_type": "stream",
     "text": [
      "Current letter is P\n",
      "Current letter is y\n",
      "Current letter is t\n",
      "Current letter is h\n",
      "Current letter is o\n",
      "Current letter is n\n"
     ]
    }
   ],
   "source": [
    "for letter in 'Python':\n",
    "    print'Current letter is', letter"
   ]
  },
  {
   "cell_type": "code",
   "execution_count": 12,
   "metadata": {
    "collapsed": false
   },
   "outputs": [
    {
     "name": "stdout",
     "output_type": "stream",
     "text": [
      "aku nak makan pisang\n",
      "aku nak makan sukun\n",
      "aku nak makan cempedak\n",
      "aku nak makan ciku\n",
      "malangnya aku kat kutub utara\n"
     ]
    }
   ],
   "source": [
    "fruits = ['pisang','sukun','cempedak','ciku']\n",
    "for fruit in fruits:\n",
    "    print'aku nak makan', fruit\n",
    "print\"malangnya aku kat kutub utara\""
   ]
  },
  {
   "cell_type": "code",
   "execution_count": 13,
   "metadata": {
    "collapsed": true
   },
   "outputs": [
    {
     "name": "stdout",
     "output_type": "stream",
     "text": [
      "nak buah pisang\n",
      "nak buah sukun\n",
      "nak buah cempedak\n",
      "nak buah ciku\n"
     ]
    }
   ],
   "source": [
    "for index in range(len(fruits)):\n",
    "    print'nak buah',fruits[index]"
   ]
  },
  {
   "cell_type": "code",
   "execution_count": 18,
   "metadata": {
    "collapsed": false
   },
   "outputs": [
    {
     "name": "stdout",
     "output_type": "stream",
     "text": [
      "1 is a prime number\n",
      "2 is a prime number\n",
      "3 is a prime number\n",
      "4 equals 2 * 2\n",
      "5 is a prime number\n",
      "6 equals 2 * 3\n",
      "7 is a prime number\n",
      "8 equals 2 * 4\n",
      "9 equals 3 * 3\n",
      "10 equals 2 * 5\n",
      "11 is a prime number\n",
      "12 equals 2 * 6\n",
      "13 is a prime number\n",
      "14 equals 2 * 7\n",
      "15 equals 3 * 5\n",
      "16 equals 2 * 8\n",
      "17 is a prime number\n",
      "18 equals 2 * 9\n",
      "19 is a prime number\n",
      "20 equals 2 * 10\n",
      "21 equals 3 * 7\n",
      "22 equals 2 * 11\n",
      "23 is a prime number\n",
      "24 equals 2 * 12\n",
      "25 equals 5 * 5\n",
      "26 equals 2 * 13\n",
      "27 equals 3 * 9\n",
      "28 equals 2 * 14\n"
     ]
    }
   ],
   "source": [
    "for num in range(1,29):\n",
    "    for i in range(2,num):\n",
    "        if num%i == 0:\n",
    "            j = num/i\n",
    "            print'%d equals %d * %d' %(num,i,j)\n",
    "            break\n",
    "    else: \n",
    "        print num, 'is a prime number'"
   ]
  },
  {
   "cell_type": "raw",
   "metadata": {},
   "source": []
  }
 ],
 "metadata": {
  "kernelspec": {
   "display_name": "Python 2",
   "language": "python",
   "name": "python2"
  },
  "language_info": {
   "codemirror_mode": {
    "name": "ipython",
    "version": 2
   },
   "file_extension": ".py",
   "mimetype": "text/x-python",
   "name": "python",
   "nbconvert_exporter": "python",
   "pygments_lexer": "ipython2",
   "version": "2.7.13"
  }
 },
 "nbformat": 4,
 "nbformat_minor": 2
}
