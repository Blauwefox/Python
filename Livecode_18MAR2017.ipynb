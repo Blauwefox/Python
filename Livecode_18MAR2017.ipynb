{
 "cells": [
  {
   "cell_type": "code",
   "execution_count": 5,
   "metadata": {
    "collapsed": false
   },
   "outputs": [
    {
     "name": "stdout",
     "output_type": "stream",
     "text": [
      "some other statement\n",
      "some other statement\n",
      "some other statement\n",
      "some other statement\n",
      "some other statement\n"
     ]
    }
   ],
   "source": [
    "list = [1,2,3,4,5]\n",
    "for num in list:\n",
    "    #print(list)\n",
    "    print('some other statement')\n"
   ]
  },
  {
   "cell_type": "code",
   "execution_count": 28,
   "metadata": {
    "collapsed": false
   },
   "outputs": [
    {
     "name": "stdout",
     "output_type": "stream",
     "text": [
      "121\n",
      "is an odd number\n",
      "\n",
      "\n",
      "4444\n",
      "is an even number\n",
      "\n",
      "\n",
      "0.123\n",
      "is an odd number\n",
      "\n",
      "\n",
      "0.5483870967741935\n",
      "is an odd number\n",
      "\n",
      "\n",
      "4.666666666666667\n",
      "is an odd number\n",
      "\n",
      "\n",
      "99023\n",
      "is an odd number\n",
      "\n",
      "\n",
      "This is the end of the iteration\n"
     ]
    }
   ],
   "source": [
    "list = [121,4444,0.123,17/31,14/3,99023]\n",
    "for num in list:\n",
    "    if num%2:\n",
    "        act1 = print(num)\n",
    "        act2 = print('is an odd number')\n",
    "        act3 = print('\\n')\n",
    "        \n",
    "    else:\n",
    "        act4 = print(num)\n",
    "        act5 = print('is an even number')\n",
    "        act6 = print('\\n')\n",
    "print('This is the end of the iteration')     "
   ]
  },
  {
   "cell_type": "code",
   "execution_count": 34,
   "metadata": {
    "collapsed": false
   },
   "outputs": [
    {
     "name": "stdout",
     "output_type": "stream",
     "text": [
      "28 this is the endsum\n"
     ]
    }
   ],
   "source": [
    "list2 = [1,2,3,4,5,6,7]\n",
    "\n",
    "listsum = 0\n",
    "\n",
    "for num in list2:\n",
    "    listsum += num\n",
    "    #print(listsum)\n",
    "print(listsum, 'this is the endsum')"
   ]
  },
  {
   "cell_type": "code",
   "execution_count": 35,
   "metadata": {
    "collapsed": false
   },
   "outputs": [
    {
     "name": "stdout",
     "output_type": "stream",
     "text": [
      "s\n",
      "u\n",
      "p\n",
      "e\n",
      "r\n",
      "s\n",
      "t\n",
      "r\n",
      "i\n",
      "n\n",
      "g\n"
     ]
    }
   ],
   "source": [
    "list3 = 'superstring'\n",
    "for letter in list3:\n",
    "    print(letter)"
   ]
  },
  {
   "cell_type": "code",
   "execution_count": 44,
   "metadata": {
    "collapsed": false
   },
   "outputs": [
    {
     "name": "stdout",
     "output_type": "stream",
     "text": [
      "1\n",
      "1\n",
      "1\n",
      "1\n",
      "1\n",
      "1\n",
      "1\n",
      "1\n",
      "1\n"
     ]
    }
   ],
   "source": [
    "tup1 = (1,3,5,7,9,11,13,15,17)\n",
    "for item in tup1:\n",
    "    tup1count = -1\n",
    "    \n",
    "    print(tup1[tup1count])\n",
    "tup1count += 1"
   ]
  },
  {
   "cell_type": "code",
   "execution_count": 113,
   "metadata": {
    "collapsed": false
   },
   "outputs": [
    {
     "name": "stdout",
     "output_type": "stream",
     "text": [
      "79\n",
      "factorial( 79 ) =\n",
      " 894618213078297528685144171539831652069808216779571907213868063227837990693501860533361810841010176000000000000000000\n",
      "22\n",
      "factorial( 22 ) =\n",
      " 1124000727777607680000\n",
      "31\n",
      "factorial( 31 ) =\n",
      " 8222838654177922817725562880000000\n",
      "2\n",
      "factorial( 2 ) =\n",
      " 2\n",
      "4\n",
      "factorial( 4 ) =\n",
      " 24\n",
      "5\n",
      "factorial( 5 ) =\n",
      " 120\n",
      "sum of all the elements are 143 \n",
      "\n",
      "sum of all factorials for 79 is = 120\n",
      "sum of all factorials for 22 is = 120\n",
      "sum of all factorials for 31 is = 120\n",
      "sum of all factorials for 2 is = 120\n",
      "sum of all factorials for 4 is = 120\n",
      "sum of all factorials for 5 is = 120\n"
     ]
    }
   ],
   "source": [
    "from math import factorial\n",
    "list4 = [79,22,31,2,4,5]\n",
    "sum_of_item = 0\n",
    "sum_factorial = 0\n",
    "elem_factorial = 0\n",
    "for item in list4:\n",
    "    \n",
    "    print(item)\n",
    "    sum_of_item = sum_of_item + item\n",
    "    elem_factorial = factorial(item)\n",
    "    print('factorial(',item,') =\\n' , elem_factorial)\n",
    "print('sum of all the elements are',sum_of_item, '\\n')\n",
    "\n",
    "for item in list4: \n",
    "    elem_factorial = elem_factorial + \n",
    "    print('sum of all factorials for',item,'is =',elem_factorial)\n",
    "    \n",
    "    \n",
    "    \n"
   ]
  },
  {
   "cell_type": "code",
   "execution_count": null,
   "metadata": {
    "collapsed": true
   },
   "outputs": [],
   "source": []
  }
 ],
 "metadata": {
  "kernelspec": {
   "display_name": "Python 3",
   "language": "python",
   "name": "python3"
  },
  "language_info": {
   "codemirror_mode": {
    "name": "ipython",
    "version": 3
   },
   "file_extension": ".py",
   "mimetype": "text/x-python",
   "name": "python",
   "nbconvert_exporter": "python",
   "pygments_lexer": "ipython3",
   "version": "3.6.0"
  }
 },
 "nbformat": 4,
 "nbformat_minor": 2
}
