{
 "cells": [
  {
   "cell_type": "markdown",
   "metadata": {},
   "source": [
    "# Functions and Methods Homework \n",
    "\n",
    "Complete the following questions:\n",
    "____\n",
    "**Write a function that computes the volume of a sphere given its radius.**"
   ]
  },
  {
   "cell_type": "code",
   "execution_count": 14,
   "metadata": {
    "collapsed": false
   },
   "outputs": [
    {
     "name": "stdout",
     "output_type": "stream",
     "text": [
      "enter radius in meters\n",
      "3\n",
      "radius value is: 3 meters\n",
      "volume of sphere of radius 3 meters is\n",
      "84.834 meters^3\n"
     ]
    }
   ],
   "source": [
    "rad = 0\n",
    "volume = 0\n",
    "print 'enter radius in meters'\n",
    "rad = input()\n",
    "print 'radius value is:', rad,'meters'\n",
    "\n",
    "def vol(rad):\n",
    "    volume = ((4/3)*(3.142*(rad**3)))\n",
    "    print 'volume of sphere of radius',rad,'meters is\\n',volume,'meters^3'                 \n",
    "vol(rad)"
   ]
  },
  {
   "cell_type": "code",
   "execution_count": 15,
   "metadata": {
    "collapsed": false
   },
   "outputs": [
    {
     "name": "stdout",
     "output_type": "stream",
     "text": [
      "volume of sphere of radius 0.01010101 meters is\n",
      "3.23817700084e-06 meters^3\n"
     ]
    }
   ],
   "source": [
    "vol(0.01010101)\n"
   ]
  },
  {
   "cell_type": "markdown",
   "metadata": {},
   "source": [
    "___\n",
    "**Write a function that checks whether a number is in a given range (Inclusive of high and low)**"
   ]
  },
  {
   "cell_type": "code",
   "execution_count": 23,
   "metadata": {
    "collapsed": false
   },
   "outputs": [],
   "source": [
    "def ran_check(num,low,high):\n",
    "    if (num > low or num == low) and (num < high or num == high):\n",
    "        print'number chosen is within range'\n",
    "    else:\n",
    "        print'ooops'"
   ]
  },
  {
   "cell_type": "code",
   "execution_count": 31,
   "metadata": {
    "collapsed": false
   },
   "outputs": [
    {
     "name": "stdout",
     "output_type": "stream",
     "text": [
      "num is within range\n"
     ]
    }
   ],
   "source": [
    "ran_check(-110,-110,-1)\n"
   ]
  },
  {
   "cell_type": "markdown",
   "metadata": {},
   "source": [
    "If you only wanted to return a boolean:"
   ]
  },
  {
   "cell_type": "code",
   "execution_count": 34,
   "metadata": {
    "collapsed": false
   },
   "outputs": [],
   "source": [
    "def ran_check2(num,low,high):\n",
    "    print (num > low or num == low) and (num < high or num == high)\n",
    "    "
   ]
  },
  {
   "cell_type": "code",
   "execution_count": 38,
   "metadata": {
    "collapsed": false
   },
   "outputs": [
    {
     "name": "stdout",
     "output_type": "stream",
     "text": [
      "False\n"
     ]
    }
   ],
   "source": [
    "ran_check2(-5,1,10)"
   ]
  },
  {
   "cell_type": "markdown",
   "metadata": {},
   "source": [
    "____\n",
    "**Write a Python function that accepts a string and calculate the number of upper case letters and lower case letters.**\n",
    "\n",
    "    Sample String : 'Hello Mr. Rogers, how are you this fine Tuesday?'\n",
    "    Expected Output : \n",
    "    No. of Upper case characters : 4\n",
    "    No. of Lower case Characters : 33\n",
    "\n",
    "If you feel ambitious, explore the Collections module to solve this problem!"
   ]
  },
  {
   "cell_type": "code",
   "execution_count": 90,
   "metadata": {
    "collapsed": false
   },
   "outputs": [
    {
     "name": "stdout",
     "output_type": "stream",
     "text": [
      "please type a string of stuff\n",
      "Buggy cat\n",
      "No of lowercase characters : 1\n",
      "No of uppercase characters : 1\n"
     ]
    }
   ],
   "source": [
    "\n",
    "print'please type a string of stuff'\n",
    "s = raw_input()\n",
    "\n",
    "def up_low(s):\n",
    "    splitter = s.split()\n",
    "    lowercase_no = 0\n",
    "    uppercase_no = 0\n",
    "    \n",
    "    for elem in splitter: \n",
    "        first_elem = elem[0] \n",
    "        lowercase = [c for c in first_elem if c.islower()]\n",
    "        \n",
    "        if lowercase != []:\n",
    "            lowercase_no += 1 \n",
    "        else: \n",
    "            uppercase_no +=1\n",
    "        \n",
    "    print 'No of lowercase characters :',lowercase_no\n",
    "    print 'No of uppercase characters :',uppercase_no   \n",
    "    \n",
    "up_low(s)"
   ]
  },
  {
   "cell_type": "markdown",
   "metadata": {},
   "source": [
    "____\n",
    "**Write a Python function that takes a list and returns a new list with unique elements of the first list.**\n",
    "\n",
    "    Sample List : [1,1,1,1,2,2,3,3,3,3,4,5]\n",
    "    Unique List : [1, 2, 3, 4, 5]"
   ]
  },
  {
   "cell_type": "code",
   "execution_count": 282,
   "metadata": {
    "collapsed": false
   },
   "outputs": [
    {
     "name": "stdout",
     "output_type": "stream",
     "text": [
      "Unique list : [1, 2, 3, 4, 5]\n",
      "None\n"
     ]
    }
   ],
   "source": [
    "def set_modifier(l):\n",
    "    print 'Unique list :', set(l)\n",
    "\n",
    "set_modifier([1,1,1,2,2,3,3,3,3,4,5])\n",
    "\n"
   ]
  },
  {
   "cell_type": "markdown",
   "metadata": {
    "collapsed": false
   },
   "source": [
    "unique_list([1,1,1,1,2,2,3,3,3,3,4,5])"
   ]
  },
  {
   "cell_type": "markdown",
   "metadata": {},
   "source": [
    "____\n",
    "**Write a Python function to multiply all the numbers in a list.**\n",
    "\n",
    "    Sample List : [1, 2, 3, -4]\n",
    "    Expected Output : -24"
   ]
  },
  {
   "cell_type": "code",
   "execution_count": 260,
   "metadata": {
    "collapsed": false
   },
   "outputs": [
    {
     "name": "stdout",
     "output_type": "stream",
     "text": [
      "[1, -2, 3, 10, -100, -3]\n",
      "length of string is 6  chars\n",
      "3000 end calculator\n"
     ]
    }
   ],
   "source": [
    "def multiply(numbers):\n",
    "    print numbers\n",
    "    length = len(numbers)-2\n",
    "    mult1 = 0\n",
    "    mult2 = 0\n",
    "    final_mult = 0\n",
    "    \"\"\"\n",
    "    to calculate the final product of all the elements in numbers\n",
    "    where numbers = [num1,num2,num3,num4]\n",
    "    \"\"\"\n",
    "    print 'length of string is',length+2,' chars'\n",
    "    \n",
    "    for i in range(0,length):\n",
    "        \n",
    "        mult1 = (numbers[i])*(numbers[i+1])\n",
    "        i = i + 1\n",
    "               \n",
    "    mult2 = numbers[length+1]\n",
    "    final_mult = mult1*mult2\n",
    "    print final_mult,'end calculator'\n",
    "multiply([1,-2,3,-(-10),-100,-3])"
   ]
  },
  {
   "cell_type": "code",
   "execution_count": 151,
   "metadata": {
    "collapsed": false
   },
   "outputs": [
    {
     "ename": "NameError",
     "evalue": "name 'numbers' is not defined",
     "output_type": "error",
     "traceback": [
      "\u001b[0;31m---------------------------------------------------------------------------\u001b[0m",
      "\u001b[0;31mNameError\u001b[0m                                 Traceback (most recent call last)",
      "\u001b[0;32m<ipython-input-151-6f2a02347f49>\u001b[0m in \u001b[0;36m<module>\u001b[0;34m()\u001b[0m\n\u001b[0;32m----> 1\u001b[0;31m \u001b[0mnumbers\u001b[0m\u001b[1;33m(\u001b[0m\u001b[1;33m[\u001b[0m\u001b[1;36m1\u001b[0m\u001b[1;33m,\u001b[0m\u001b[1;36m2\u001b[0m\u001b[1;33m,\u001b[0m\u001b[1;36m3\u001b[0m\u001b[1;33m-\u001b[0m\u001b[1;36m4\u001b[0m\u001b[1;33m]\u001b[0m\u001b[1;33m)\u001b[0m\u001b[1;33m\u001b[0m\u001b[0m\n\u001b[0m\u001b[1;32m      2\u001b[0m \u001b[1;32mdef\u001b[0m \u001b[0mmult\u001b[0m\u001b[1;33m(\u001b[0m\u001b[0mi\u001b[0m\u001b[1;33m)\u001b[0m\u001b[1;33m:\u001b[0m\u001b[1;33m\u001b[0m\u001b[0m\n\u001b[1;32m      3\u001b[0m     \u001b[1;32mfor\u001b[0m \u001b[0mi\u001b[0m \u001b[1;32min\u001b[0m \u001b[0mnumbers\u001b[0m\u001b[1;33m:\u001b[0m\u001b[1;33m\u001b[0m\u001b[0m\n\u001b[1;32m      4\u001b[0m         \u001b[0msum\u001b[0m \u001b[1;33m=\u001b[0m \u001b[0mnumbers\u001b[0m\u001b[1;33m[\u001b[0m\u001b[0mi\u001b[0m\u001b[1;33m]\u001b[0m\u001b[1;33m*\u001b[0m\u001b[0mnumbers\u001b[0m\u001b[1;33m[\u001b[0m\u001b[0mi\u001b[0m\u001b[1;33m+\u001b[0m\u001b[1;36m1\u001b[0m\u001b[1;33m]\u001b[0m\u001b[1;33m\u001b[0m\u001b[0m\n\u001b[1;32m      5\u001b[0m         \u001b[0mi\u001b[0m \u001b[1;33m=\u001b[0m \u001b[0mi\u001b[0m \u001b[1;33m+\u001b[0m \u001b[1;36m1\u001b[0m\u001b[1;33m\u001b[0m\u001b[0m\n",
      "\u001b[0;31mNameError\u001b[0m: name 'numbers' is not defined"
     ]
    }
   ],
   "source": [
    "numbers([1,2,3-4])\n",
    "def mult(i):\n",
    "    for i in numbers:\n",
    "        sum = numbers[i]*numbers[i+1]\n",
    "        i = i + 1\n",
    "        return i\n",
    "        print sum\n",
    "mult(i)        "
   ]
  },
  {
   "cell_type": "markdown",
   "metadata": {},
   "source": [
    "____\n",
    "**Write a Python function that checks whether a passed string is palindrome or not.**\n",
    "\n",
    "Note: A palindrome is word, phrase, or sequence that reads the same backward as forward, e.g., madam or nurses run."
   ]
  },
  {
   "cell_type": "code",
   "execution_count": 304,
   "metadata": {
    "collapsed": false
   },
   "outputs": [],
   "source": [
    "def palindrome(s):\n",
    "    #print'type word to test for palindromic tendency'\n",
    "    test_word = s\n",
    "    #print'word entered is :',test_word\n",
    "    reverse = test_word[::-1]\n",
    "    \n",
    "    \n",
    "    if reverse == test_word:\n",
    "        return True\n",
    "    else: \n",
    "        return False\n"
   ]
  },
  {
   "cell_type": "code",
   "execution_count": 305,
   "metadata": {
    "collapsed": false
   },
   "outputs": [
    {
     "data": {
      "text/plain": [
       "True"
      ]
     },
     "execution_count": 305,
     "metadata": {},
     "output_type": "execute_result"
    }
   ],
   "source": [
    "palindrome('kakak')"
   ]
  },
  {
   "cell_type": "markdown",
   "metadata": {},
   "source": [
    "____\n",
    "**Hard**:\n",
    "\n",
    "Write a Python function to check whether a string is pangram or not.\n",
    "\n",
    "    Note : Pangrams are words or sentences containing every letter of the alphabet at least once.\n",
    "    For example : \"The quick brown fox jumps over the lazy dog\"\n",
    "\n",
    "Hint: Look at the string module"
   ]
  },
  {
   "cell_type": "code",
   "execution_count": 7,
   "metadata": {
    "collapsed": true
   },
   "outputs": [],
   "source": [
    "import string\n",
    "\n",
    "def ispangram(str1, alphabet=string.ascii_lowercase):  \n",
    "    \n",
    "    print True"
   ]
  },
  {
   "cell_type": "code",
   "execution_count": 8,
   "metadata": {
    "collapsed": false
   },
   "outputs": [
    {
     "name": "stdout",
     "output_type": "stream",
     "text": [
      "True\n"
     ]
    }
   ],
   "source": [
    "ispangram(\"The quick brown fox jumps over the lazy dog\")"
   ]
  },
  {
   "cell_type": "code",
   "execution_count": 74,
   "metadata": {
    "collapsed": false
   },
   "outputs": [
    {
     "name": "stdout",
     "output_type": "stream",
     "text": [
      "type in string for Pangramic Potential test \n",
      "\n",
      "la\n",
      "\n",
      "you have entered : \n",
      "\n",
      ">>>>> la <<<<<<\n",
      "\n",
      "\n",
      "\n",
      " new string generated, containing elements : ['l', 'a']\n",
      "a loc in loop j\n",
      "['a'] in loop i\n",
      "b loc in loop j\n",
      "c loc in loop j\n",
      "d loc in loop j\n",
      "e loc in loop j\n",
      "f loc in loop j\n",
      "g loc in loop j\n",
      "h loc in loop j\n",
      "i loc in loop j\n",
      "j loc in loop j\n",
      "k loc in loop j\n",
      "l loc in loop j\n",
      "['a', 'l'] in loop i\n",
      "m loc in loop j\n",
      "n loc in loop j\n",
      "o loc in loop j\n",
      "p loc in loop j\n",
      "q loc in loop j\n",
      "r loc in loop j\n",
      "s loc in loop j\n",
      "t loc in loop j\n",
      "u loc in loop j\n",
      "v loc in loop j\n",
      "w loc in loop j\n",
      "x loc in loop j\n",
      "y loc in loop j\n",
      "z loc in loop j\n"
     ]
    }
   ],
   "source": [
    "import string \n",
    "alphabets = string.ascii_lowercase\n",
    "splitter = list(alphabets)\n",
    "#print splitter\n",
    "init_length = len(splitter)\n",
    "\n",
    "print 'type in string for Pangramic Potential test \\n'\n",
    "given_test_string = raw_input()\n",
    "print '\\nyou have entered : \\n\\n>>>>>',given_test_string, '<<<<<<\\n\\n'\n",
    "list_string = list(given_test_string)\n",
    "\n",
    "print '\\n new string generated, containing elements :',list_string\n",
    "length = len(list_string) \n",
    "sort_list_string = list_string.sort()\n",
    "i_loop_list = []\n",
    "j_loop_list = [] \n",
    "\n",
    "\n",
    "for j in range(0,init_length):\n",
    "    print splitter[j], 'loc in loop j'\n",
    "    \n",
    "    for i in range(0,length) :\n",
    "        if given_test_string[i] == splitter[j]:\n",
    "            i_loop_list += given_test_string[i]\n",
    "            i += 1\n",
    "            print i_loop_list, 'in loop i'\n",
    "        else:\n",
    "            False\n",
    "    j +=1\n",
    "        \n",
    "\n",
    "#splitter = alphabets.split()"
   ]
  },
  {
   "cell_type": "code",
   "execution_count": null,
   "metadata": {
    "collapsed": true
   },
   "outputs": [],
   "source": []
  },
  {
   "cell_type": "raw",
   "metadata": {
    "collapsed": true
   },
   "source": [
    "####**Great Job!**"
   ]
  }
 ],
 "metadata": {
  "kernelspec": {
   "display_name": "Python 2",
   "language": "python",
   "name": "python2"
  },
  "language_info": {
   "codemirror_mode": {
    "name": "ipython",
    "version": 2
   },
   "file_extension": ".py",
   "mimetype": "text/x-python",
   "name": "python",
   "nbconvert_exporter": "python",
   "pygments_lexer": "ipython2",
   "version": "2.7.13"
  }
 },
 "nbformat": 4,
 "nbformat_minor": 0
}
